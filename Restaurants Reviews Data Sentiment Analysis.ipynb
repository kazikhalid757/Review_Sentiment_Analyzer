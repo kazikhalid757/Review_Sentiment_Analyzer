{
 "cells": [
  {
   "cell_type": "code",
   "execution_count": 1,
   "id": "573ad9a4",
   "metadata": {},
   "outputs": [],
   "source": [
    "import pandas as pd\n",
    "import numpy as nm\n",
    "import matplotlib.pyplot as plt\n",
    "import seaborn as sns\n",
    "import tensorflow as tf\n",
    "from tensorflow.keras.preprocessing.text import Tokenizer\n",
    "from tensorflow.keras.preprocessing.sequence import pad_sequences\n",
    "from tensorflow.keras.layers import Embedding, LSTM, Dense, Dropout\n",
    "from tensorflow.keras.models import Sequential\n"
   ]
  },
  {
   "cell_type": "code",
   "execution_count": 2,
   "id": "8df0b256",
   "metadata": {
    "scrolled": true
   },
   "outputs": [
    {
     "data": {
      "text/html": [
       "<div>\n",
       "<style scoped>\n",
       "    .dataframe tbody tr th:only-of-type {\n",
       "        vertical-align: middle;\n",
       "    }\n",
       "\n",
       "    .dataframe tbody tr th {\n",
       "        vertical-align: top;\n",
       "    }\n",
       "\n",
       "    .dataframe thead th {\n",
       "        text-align: right;\n",
       "    }\n",
       "</style>\n",
       "<table border=\"1\" class=\"dataframe\">\n",
       "  <thead>\n",
       "    <tr style=\"text-align: right;\">\n",
       "      <th></th>\n",
       "      <th>review_text</th>\n",
       "      <th>sentiment</th>\n",
       "    </tr>\n",
       "  </thead>\n",
       "  <tbody>\n",
       "    <tr>\n",
       "      <th>0</th>\n",
       "      <td>Wow... Loved this place.</td>\n",
       "      <td>1</td>\n",
       "    </tr>\n",
       "    <tr>\n",
       "      <th>1</th>\n",
       "      <td>Crust is not good.</td>\n",
       "      <td>0</td>\n",
       "    </tr>\n",
       "    <tr>\n",
       "      <th>2</th>\n",
       "      <td>Not tasty and the texture was just nasty.</td>\n",
       "      <td>0</td>\n",
       "    </tr>\n",
       "    <tr>\n",
       "      <th>3</th>\n",
       "      <td>Stopped by during the late May bank holiday of...</td>\n",
       "      <td>1</td>\n",
       "    </tr>\n",
       "    <tr>\n",
       "      <th>4</th>\n",
       "      <td>The selection on the menu was great and so wer...</td>\n",
       "      <td>1</td>\n",
       "    </tr>\n",
       "    <tr>\n",
       "      <th>...</th>\n",
       "      <td>...</td>\n",
       "      <td>...</td>\n",
       "    </tr>\n",
       "    <tr>\n",
       "      <th>995</th>\n",
       "      <td>I think food should have flavor and texture an...</td>\n",
       "      <td>0</td>\n",
       "    </tr>\n",
       "    <tr>\n",
       "      <th>996</th>\n",
       "      <td>Appetite instantly gone.</td>\n",
       "      <td>0</td>\n",
       "    </tr>\n",
       "    <tr>\n",
       "      <th>997</th>\n",
       "      <td>Overall I was not impressed and would not go b...</td>\n",
       "      <td>0</td>\n",
       "    </tr>\n",
       "    <tr>\n",
       "      <th>998</th>\n",
       "      <td>The whole experience was underwhelming, and I ...</td>\n",
       "      <td>0</td>\n",
       "    </tr>\n",
       "    <tr>\n",
       "      <th>999</th>\n",
       "      <td>Then, as if I hadn't wasted enough of my life ...</td>\n",
       "      <td>0</td>\n",
       "    </tr>\n",
       "  </tbody>\n",
       "</table>\n",
       "<p>1000 rows × 2 columns</p>\n",
       "</div>"
      ],
      "text/plain": [
       "                                           review_text  sentiment\n",
       "0                             Wow... Loved this place.          1\n",
       "1                                   Crust is not good.          0\n",
       "2            Not tasty and the texture was just nasty.          0\n",
       "3    Stopped by during the late May bank holiday of...          1\n",
       "4    The selection on the menu was great and so wer...          1\n",
       "..                                                 ...        ...\n",
       "995  I think food should have flavor and texture an...          0\n",
       "996                           Appetite instantly gone.          0\n",
       "997  Overall I was not impressed and would not go b...          0\n",
       "998  The whole experience was underwhelming, and I ...          0\n",
       "999  Then, as if I hadn't wasted enough of my life ...          0\n",
       "\n",
       "[1000 rows x 2 columns]"
      ]
     },
     "execution_count": 2,
     "metadata": {},
     "output_type": "execute_result"
    }
   ],
   "source": [
    "data = pd.read_csv(r\"C:\\Users\\kazit\\Downloads\\Data\\Restaurant_Reviews.csv\")\n",
    "data"
   ]
  },
  {
   "cell_type": "code",
   "execution_count": 3,
   "id": "c7615dbc",
   "metadata": {
    "scrolled": true
   },
   "outputs": [
    {
     "name": "stdout",
     "output_type": "stream",
     "text": [
      "Epoch 1/5\n",
      "13/13 [==============================] - 6s 147ms/step - loss: 0.6910 - accuracy: 0.5350 - val_loss: 0.7719 - val_accuracy: 0.2400\n",
      "Epoch 2/5\n",
      "13/13 [==============================] - 1s 68ms/step - loss: 0.6856 - accuracy: 0.5650 - val_loss: 0.7444 - val_accuracy: 0.2400\n",
      "Epoch 3/5\n",
      "13/13 [==============================] - 1s 70ms/step - loss: 0.6835 - accuracy: 0.5663 - val_loss: 0.7827 - val_accuracy: 0.2400\n",
      "Epoch 4/5\n",
      "13/13 [==============================] - 1s 75ms/step - loss: 0.6719 - accuracy: 0.5725 - val_loss: 0.7873 - val_accuracy: 0.4050\n",
      "Epoch 5/5\n",
      "13/13 [==============================] - 1s 74ms/step - loss: 0.4654 - accuracy: 0.8100 - val_loss: 1.2458 - val_accuracy: 0.5750\n"
     ]
    },
    {
     "data": {
      "text/plain": [
       "<tensorflow.python.keras.callbacks.History at 0x29e7b929348>"
      ]
     },
     "execution_count": 3,
     "metadata": {},
     "output_type": "execute_result"
    }
   ],
   "source": [
    "\n",
    "\n",
    "# Extract 'review_text' and 'sentiment' columns from the DataFrame\n",
    "reviews = data['review_text'].tolist()\n",
    "sentiments = data['sentiment'].tolist()\n",
    "\n",
    "# Create and fit the tokenizer\n",
    "tokenizer = Tokenizer()\n",
    "tokenizer.fit_on_texts(reviews)\n",
    "vocab_size = len(tokenizer.word_index) + 1\n",
    "\n",
    "X = tokenizer.texts_to_sequences(reviews)\n",
    "X = pad_sequences(X, padding='post')\n",
    "\n",
    "# Convert sentiments to a numpy array\n",
    "sentiments = np.array(sentiments)\n",
    "\n",
    "# Build the model\n",
    "model = Sequential()\n",
    "model.add(Embedding(vocab_size, 100, input_length=X.shape[1]))\n",
    "model.add(LSTM(100))\n",
    "model.add(Dropout(0.2))\n",
    "model.add(Dense(1, activation='sigmoid'))\n",
    "\n",
    "# Compile the model\n",
    "model.compile(loss='binary_crossentropy', optimizer='adam', metrics=['accuracy'])\n",
    "\n",
    "# Train the model\n",
    "model.fit(X, sentiments, epochs=5, batch_size=64, validation_split=0.2)\n"
   ]
  },
  {
   "cell_type": "code",
   "execution_count": 4,
   "id": "a66f1208",
   "metadata": {},
   "outputs": [
    {
     "name": "stdout",
     "output_type": "stream",
     "text": [
      "negative\n"
     ]
    }
   ],
   "source": [
    "new_review = \"Do not waste your money here!\"\n",
    "new_review_seq = tokenizer.texts_to_sequences([new_review])\n",
    "new_review_seq = pad_sequences(new_review_seq, padding='post', maxlen=X.shape[1])\n",
    "predicted_sentiment = model.predict(new_review_seq)[0][0]\n",
    "\n",
    "if predicted_sentiment > 0.5:\n",
    "        prediction = \"positive\"\n",
    "        print( prediction )\n",
    "else:\n",
    "        prediction = \"negative\"\n",
    "        print( prediction )\n",
    "\n"
   ]
  },
  {
   "cell_type": "code",
   "execution_count": 5,
   "id": "9a9b4600",
   "metadata": {},
   "outputs": [
    {
     "name": "stdout",
     "output_type": "stream",
     "text": [
      "[65.9]\n",
      "[34.1]\n"
     ]
    }
   ],
   "source": [
    "predicted_sentiments = model.predict(X)\n",
    "positive_percentage = sum(predicted_sentiments > 0.5) / len(predicted_sentiments) * 100\n",
    "negative_percentage = 100 - positive_percentage\n",
    "print( positive_percentage )\n",
    "print( negative_percentage )\n",
    "\n"
   ]
  },
  {
   "cell_type": "code",
   "execution_count": 6,
   "id": "05e86ede",
   "metadata": {},
   "outputs": [
    {
     "name": "stdout",
     "output_type": "stream",
     "text": [
      "['Great steak, great sides, great wine, amazing desserts.', 'Great atmosphere, friendly and fast service.', 'Great food and great service in a clean and friendly setting.', 'Great brunch spot.', 'The staff are great, the ambiance is great.']\n",
      "['Waited 2 hours & never got either of our pizzas as many other around us who came in later did!', \"I don't think I'll be running back to Carly's anytime soon for food.\", \"Bland... Not a liking this place for a number of reasons and I don't want to waste time on bad reviewing.. I'll leave it at that...\", 'After I pulled up my car I waited for another 15 minutes before being acknowledged.', \"I don't think we'll be going back anytime soon.\"]\n"
     ]
    }
   ],
   "source": [
    "reviews_with_predictions = [(reviews[i], predicted_sentiments[i][0]) for i in range(len(reviews))]\n",
    "reviews_with_predictions.sort(key=lambda x: x[1], reverse=True)\n",
    "\n",
    "top_positive_reviews = [review for review, _ in reviews_with_predictions[:5]]\n",
    "top_negative_reviews = [review for review, _ in reviews_with_predictions[-5:]]\n",
    "print( top_positive_reviews )\n",
    "print( top_negative_reviews )\n"
   ]
  },
  {
   "cell_type": "code",
   "execution_count": 11,
   "id": "9ae2178c",
   "metadata": {},
   "outputs": [
    {
     "data": {
      "application/vnd.jupyter.widget-view+json": {
       "model_id": "c8fea24513c2457ba9a9bc19c0a7df44",
       "version_major": 2,
       "version_minor": 0
      },
      "text/plain": [
       "FileUpload(value=(), accept='.csv', description='Choose a file')"
      ]
     },
     "metadata": {},
     "output_type": "display_data"
    },
    {
     "data": {
      "text/plain": [
       "'Positive Percentage'"
      ]
     },
     "metadata": {},
     "output_type": "display_data"
    },
    {
     "data": {
      "application/vnd.jupyter.widget-view+json": {
       "model_id": "1250621486564287ae72d21e987fa444",
       "version_major": 2,
       "version_minor": 0
      },
      "text/plain": [
       "FloatText(value=65.9)"
      ]
     },
     "metadata": {},
     "output_type": "display_data"
    },
    {
     "data": {
      "text/plain": [
       "'Negative Percentage'"
      ]
     },
     "metadata": {},
     "output_type": "display_data"
    },
    {
     "data": {
      "application/vnd.jupyter.widget-view+json": {
       "model_id": "4052b367693246899205df07c2a9fa9d",
       "version_major": 2,
       "version_minor": 0
      },
      "text/plain": [
       "FloatText(value=34.099999999999994)"
      ]
     },
     "metadata": {},
     "output_type": "display_data"
    },
    {
     "data": {
      "application/vnd.jupyter.widget-view+json": {
       "model_id": "9b9bc472db3e4680964abec2676dc084",
       "version_major": 2,
       "version_minor": 0
      },
      "text/plain": [
       "Label(value='Top Positive Reviews:')"
      ]
     },
     "metadata": {},
     "output_type": "display_data"
    },
    {
     "data": {
      "application/vnd.jupyter.widget-view+json": {
       "model_id": "411027a877be4149a4ebdbcb0315ad87",
       "version_major": 2,
       "version_minor": 0
      },
      "text/plain": [
       "Textarea(value='Great steak, great sides, great wine, amazing desserts.\\nGreat atmosphere, friendly and fast s…"
      ]
     },
     "metadata": {},
     "output_type": "display_data"
    },
    {
     "data": {
      "application/vnd.jupyter.widget-view+json": {
       "model_id": "556401fd02e744728d9723113bdae199",
       "version_major": 2,
       "version_minor": 0
      },
      "text/plain": [
       "Label(value='Top Negative Reviews:')"
      ]
     },
     "metadata": {},
     "output_type": "display_data"
    },
    {
     "data": {
      "application/vnd.jupyter.widget-view+json": {
       "model_id": "5a95d5e3b8a14812bcb79c893fd24faa",
       "version_major": 2,
       "version_minor": 0
      },
      "text/plain": [
       "Textarea(value=\"Waited 2 hours & never got either of our pizzas as many other around us who came in later did!…"
      ]
     },
     "metadata": {},
     "output_type": "display_data"
    },
    {
     "data": {
      "text/html": [
       "<div>\n",
       "<style scoped>\n",
       "    .dataframe tbody tr th:only-of-type {\n",
       "        vertical-align: middle;\n",
       "    }\n",
       "\n",
       "    .dataframe tbody tr th {\n",
       "        vertical-align: top;\n",
       "    }\n",
       "\n",
       "    .dataframe thead th {\n",
       "        text-align: right;\n",
       "    }\n",
       "</style>\n",
       "<table border=\"1\" class=\"dataframe\">\n",
       "  <thead>\n",
       "    <tr style=\"text-align: right;\">\n",
       "      <th></th>\n",
       "      <th>values</th>\n",
       "    </tr>\n",
       "  </thead>\n",
       "  <tbody>\n",
       "    <tr>\n",
       "      <th>0</th>\n",
       "      <td>awsm</td>\n",
       "    </tr>\n",
       "    <tr>\n",
       "      <th>1</th>\n",
       "      <td>nice product and hd picture</td>\n",
       "    </tr>\n",
       "    <tr>\n",
       "      <th>2</th>\n",
       "      <td>super</td>\n",
       "    </tr>\n",
       "    <tr>\n",
       "      <th>3</th>\n",
       "      <td>good product nice price i</td>\n",
       "    </tr>\n",
       "    <tr>\n",
       "      <th>4</th>\n",
       "      <td>good</td>\n",
       "    </tr>\n",
       "    <tr>\n",
       "      <th>...</th>\n",
       "      <td>...</td>\n",
       "    </tr>\n",
       "    <tr>\n",
       "      <th>99995</th>\n",
       "      <td>not smooth and comfortable to use</td>\n",
       "    </tr>\n",
       "    <tr>\n",
       "      <th>99996</th>\n",
       "      <td>it s really value for money</td>\n",
       "    </tr>\n",
       "    <tr>\n",
       "      <th>99997</th>\n",
       "      <td>nice</td>\n",
       "    </tr>\n",
       "    <tr>\n",
       "      <th>99998</th>\n",
       "      <td>very good product</td>\n",
       "    </tr>\n",
       "    <tr>\n",
       "      <th>99999</th>\n",
       "      <td>size is small in comparison to other cones sme...</td>\n",
       "    </tr>\n",
       "  </tbody>\n",
       "</table>\n",
       "<p>100000 rows × 1 columns</p>\n",
       "</div>"
      ],
      "text/plain": [
       "                                                  values\n",
       "0                                                   awsm\n",
       "1                            nice product and hd picture\n",
       "2                                                  super\n",
       "3                              good product nice price i\n",
       "4                                                   good\n",
       "...                                                  ...\n",
       "99995                  not smooth and comfortable to use\n",
       "99996                        it s really value for money\n",
       "99997                                               nice\n",
       "99998                                  very good product\n",
       "99999  size is small in comparison to other cones sme...\n",
       "\n",
       "[100000 rows x 1 columns]"
      ]
     },
     "metadata": {},
     "output_type": "display_data"
    }
   ],
   "source": [
    "import pandas as pd\n",
    "import io\n",
    "import ipywidgets as widgets\n",
    "from IPython.display import display\n",
    "\n",
    "# Load and preprocess data, train model, etc. (Steps 1-5)\n",
    "\n",
    "# Function to handle file upload\n",
    "def handle_upload(change):\n",
    "    uploaded_file = change['new']\n",
    "    if uploaded_file:\n",
    "        uploaded_content = uploaded_file[0]['content'].tobytes()\n",
    "        string_dataset = uploaded_content.decode('utf-8')  # Convert bytes to string\n",
    "        \n",
    "        # Process string_dataset, predict sentiments, calculate percentages, and find top reviews (Steps 3-5)\n",
    "\n",
    "        # Display results\n",
    "        positive_percentage_widget = widgets.FloatText(value=positive_percentage)\n",
    "        negative_percentage_widget = widgets.FloatText(value=negative_percentage)\n",
    "\n",
    "        top_positive_reviews_widget = widgets.Textarea(value=\"\\n\".join(top_positive_reviews), description=\"Top Positive Reviews\")\n",
    "        top_negative_reviews_widget = widgets.Textarea(value=\"\\n\".join(top_negative_reviews), description=\"Top Negative Reviews\")\n",
    "\n",
    "        display(\"Positive Percentage\", positive_percentage_widget)\n",
    "        display(\"Negative Percentage\" , negative_percentage_widget)\n",
    "        display(widgets.Label(\"Top Positive Reviews:\"))\n",
    "        display(top_positive_reviews_widget)\n",
    "        display(widgets.Label(\"Top Negative Reviews:\"))\n",
    "        display(top_negative_reviews_widget)\n",
    "\n",
    "        # Display the processed dataset\n",
    "        processed_df = pd.read_csv(io.StringIO(string_dataset))  # Convert string to DataFrame\n",
    "        display(processed_df)\n",
    "\n",
    "# Create a FileUpload widget\n",
    "upload_button = widgets.FileUpload(description=\"Choose a file\", accept=\".csv\")\n",
    "\n",
    "# Attach the handle_upload function to the widget\n",
    "upload_button.observe(handle_upload, names='value')\n",
    "\n",
    "# Display the upload button\n",
    "display(upload_button)\n"
   ]
  },
  {
   "cell_type": "code",
   "execution_count": null,
   "id": "6b85f999",
   "metadata": {},
   "outputs": [],
   "source": []
  }
 ],
 "metadata": {
  "kernelspec": {
   "display_name": "Python 3 (ipykernel)",
   "language": "python",
   "name": "python3"
  },
  "language_info": {
   "codemirror_mode": {
    "name": "ipython",
    "version": 3
   },
   "file_extension": ".py",
   "mimetype": "text/x-python",
   "name": "python",
   "nbconvert_exporter": "python",
   "pygments_lexer": "ipython3",
   "version": "3.9.13"
  }
 },
 "nbformat": 4,
 "nbformat_minor": 5
}
